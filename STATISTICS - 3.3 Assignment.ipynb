{
 "cells": [
  {
   "cell_type": "markdown",
   "metadata": {},
   "source": [
    "# You take the SAT and score 1100. The mean score for the SAT is 1026 and the standard deviation is 209. How well did you score on the test compared to the average test taker?\n",
    "\n",
    "Z = VALUE - MEAN / SD\n",
    "\n",
    "Mean = 1026\n",
    "Value = 1100\n",
    "SD = 209\n",
    "\n",
    "Z = 1100 - 1026 / 209 = 0.354\n",
    "\n",
    "z-score of .354 is 0.6368 i.e 63.68%.\n",
    "\n",
    "compared to the average test taker , you did 63.68% better"
   ]
  }
 ],
 "metadata": {
  "kernelspec": {
   "display_name": "Python 3",
   "language": "python",
   "name": "python3"
  },
  "language_info": {
   "codemirror_mode": {
    "name": "ipython",
    "version": 3
   },
   "file_extension": ".py",
   "mimetype": "text/x-python",
   "name": "python",
   "nbconvert_exporter": "python",
   "pygments_lexer": "ipython3",
   "version": "3.6.4"
  }
 },
 "nbformat": 4,
 "nbformat_minor": 2
}
